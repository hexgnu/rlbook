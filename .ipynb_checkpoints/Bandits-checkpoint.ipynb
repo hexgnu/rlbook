{
 "cells": [
  {
   "cell_type": "code",
   "execution_count": 1,
   "metadata": {},
   "outputs": [],
   "source": [
    "import gym\n",
    "import numpy as np\n",
    "import gym\n",
    "from gym import spaces\n",
    "from gym.utils import seeding\n",
    "from functools import partial\n",
    "from numbers import Number"
   ]
  },
  {
   "cell_type": "code",
   "execution_count": 316,
   "metadata": {},
   "outputs": [
    {
     "name": "stdout",
     "output_type": "stream",
     "text": [
      "Processing /home/hexgnu/.cache/pip/wheels/45/30/91/6d23d9241f432efb8e1e928b3ddd3657885d0a3118a1e570d2/ipdb-0.13.4-py3-none-any.whl\n",
      "Requirement already satisfied: ipython>=5.1.0; python_version >= \"3.4\" in /home/hexgnu/.pyenv/versions/miniconda3-latest/envs/tf_gpu/lib/python3.8/site-packages (from ipdb) (7.18.1)\n",
      "Requirement already satisfied: setuptools in /home/hexgnu/.pyenv/versions/miniconda3-latest/envs/tf_gpu/lib/python3.8/site-packages (from ipdb) (50.3.0.post20201006)\n",
      "Requirement already satisfied: pickleshare in /home/hexgnu/.pyenv/versions/miniconda3-latest/envs/tf_gpu/lib/python3.8/site-packages (from ipython>=5.1.0; python_version >= \"3.4\"->ipdb) (0.7.5)\n",
      "Requirement already satisfied: decorator in /home/hexgnu/.pyenv/versions/miniconda3-latest/envs/tf_gpu/lib/python3.8/site-packages (from ipython>=5.1.0; python_version >= \"3.4\"->ipdb) (4.4.2)\n",
      "Requirement already satisfied: pygments in /home/hexgnu/.pyenv/versions/miniconda3-latest/envs/tf_gpu/lib/python3.8/site-packages (from ipython>=5.1.0; python_version >= \"3.4\"->ipdb) (2.7.1)\n",
      "Requirement already satisfied: backcall in /home/hexgnu/.pyenv/versions/miniconda3-latest/envs/tf_gpu/lib/python3.8/site-packages (from ipython>=5.1.0; python_version >= \"3.4\"->ipdb) (0.2.0)\n",
      "Requirement already satisfied: pexpect>4.3; sys_platform != \"win32\" in /home/hexgnu/.pyenv/versions/miniconda3-latest/envs/tf_gpu/lib/python3.8/site-packages (from ipython>=5.1.0; python_version >= \"3.4\"->ipdb) (4.8.0)\n",
      "Requirement already satisfied: jedi>=0.10 in /home/hexgnu/.pyenv/versions/miniconda3-latest/envs/tf_gpu/lib/python3.8/site-packages (from ipython>=5.1.0; python_version >= \"3.4\"->ipdb) (0.17.2)\n",
      "Requirement already satisfied: traitlets>=4.2 in /home/hexgnu/.pyenv/versions/miniconda3-latest/envs/tf_gpu/lib/python3.8/site-packages (from ipython>=5.1.0; python_version >= \"3.4\"->ipdb) (5.0.4)\n",
      "Requirement already satisfied: prompt-toolkit!=3.0.0,!=3.0.1,<3.1.0,>=2.0.0 in /home/hexgnu/.pyenv/versions/miniconda3-latest/envs/tf_gpu/lib/python3.8/site-packages (from ipython>=5.1.0; python_version >= \"3.4\"->ipdb) (3.0.7)\n",
      "Requirement already satisfied: ptyprocess>=0.5 in /home/hexgnu/.pyenv/versions/miniconda3-latest/envs/tf_gpu/lib/python3.8/site-packages (from pexpect>4.3; sys_platform != \"win32\"->ipython>=5.1.0; python_version >= \"3.4\"->ipdb) (0.6.0)\n",
      "Requirement already satisfied: parso<0.8.0,>=0.7.0 in /home/hexgnu/.pyenv/versions/miniconda3-latest/envs/tf_gpu/lib/python3.8/site-packages (from jedi>=0.10->ipython>=5.1.0; python_version >= \"3.4\"->ipdb) (0.7.0)\n",
      "Requirement already satisfied: ipython-genutils in /home/hexgnu/.pyenv/versions/miniconda3-latest/envs/tf_gpu/lib/python3.8/site-packages (from traitlets>=4.2->ipython>=5.1.0; python_version >= \"3.4\"->ipdb) (0.2.0)\n",
      "Requirement already satisfied: wcwidth in /home/hexgnu/.pyenv/versions/miniconda3-latest/envs/tf_gpu/lib/python3.8/site-packages (from prompt-toolkit!=3.0.0,!=3.0.1,<3.1.0,>=2.0.0->ipython>=5.1.0; python_version >= \"3.4\"->ipdb) (0.2.5)\n",
      "Installing collected packages: ipdb\n",
      "Successfully installed ipdb-0.13.4\n",
      "Note: you may need to restart the kernel to use updated packages.\n"
     ]
    }
   ],
   "source": [
    "pip install ipdb"
   ]
  },
  {
   "cell_type": "markdown",
   "metadata": {},
   "source": [
    "# Gym, Policy, Agent\n",
    "\n",
    "These are the three most important aspects to building an n-armed bandit. In this section we will be discussing the nuances of each.\n",
    "\n",
    "Realize that each situation that you face will be different. Gyms are an artificial way to simulate what happens in the environment. For instance star ratings on content act very different than say advertisement places or click through rates."
   ]
  },
  {
   "cell_type": "markdown",
   "metadata": {},
   "source": [
    "# Gym\n",
    "\n",
    "For this exercise we are going to be building our own OpenAI gym. This is a good structure to start with, what is the playing field, what is the test that we are building. In general there are three different environments to take into consideration when building an n-armed bandit.\n",
    "\n",
    "1. Bernoulli Environments. Basically this is a yes / no response. Was it successful or not. This shows up as namely clickthroughs, whether a user has clicked on a headline or not.\n",
    "2. Binomial Environments. Binomial bandits are similar to bernoulli environments. Basically the idea here is that this would rank a relative strength from say 0-5 for star ratings or strength. It's not a yea or no answer and Q can generally move around a lot more.\n",
    "3. Gaussian environments. This one is not as common in bandits since we are trying to usually get people to take an action, but this does show up as long term engagement metrics. For instance this would work out better for Spotify recommended playlists. Basically what is something that will get someone to listen the most.\n",
    "4. Random environments. Sometimes things really are random, sometimes it's useful to know this!"
   ]
  },
  {
   "cell_type": "code",
   "execution_count": 305,
   "metadata": {},
   "outputs": [],
   "source": [
    "import random\n",
    "import pandas as pd\n",
    "import matplotlib.pyplot as plt\n",
    "\n",
    "class BanditEnv(gym.Env):\n",
    "    def __init__(self, k):\n",
    "        self.action_space = spaces.Discrete(k)\n",
    "        self.observation_space = spaces.Discrete(1)\n",
    "        self._seed()\n",
    "\n",
    "        \n",
    "    def _seed(self, seed=None):\n",
    "        self.np_random, seed = seeding.np_random(seed)\n",
    "        return [seed]\n",
    "    \n",
    "    def step(self, action):\n",
    "        '''\n",
    "        Make sure to define this in an environment below\n",
    "        '''\n",
    "        raise NotImplementedError\n",
    "    \n",
    "    def reset(self):\n",
    "        self.rewards = []\n",
    "        return 0\n",
    "\n",
    "    def render(self, mode='human', close=False):\n",
    "        pass\n",
    "\n",
    "    \n",
    "class RandomEnv(BanditEnv):\n",
    "    '''\n",
    "    Will randomly return values for each arm (k) between reward_range\n",
    "    \n",
    "    It's RANDOM\n",
    "    '''\n",
    "    def __init__(self, k, reward_range=[0,1]):\n",
    "        self.reward_range = reward_range\n",
    "        super(RandomEnv, self).__init__(k)\n",
    "    \n",
    "    def step(self, action):\n",
    "        assert self.action_space.contains(action)\n",
    "\n",
    "        reward = random.uniform(*self.reward_range)\n",
    "        done = True\n",
    "\n",
    "        return 0, reward, done, {}\n",
    "\n",
    "\n",
    "class GaussianEnv(BanditEnv):\n",
    "    '''\n",
    "    Gaussian Bandits can be used to calculate the average return for an investment per se by investing or not\n",
    "    Given each iteration. Though be careful with this!\n",
    "    '''\n",
    "    def __init__(self, k, means, stddevs):\n",
    "        if isinstance(means, Number) and isinstance(stddevs, Number):\n",
    "            # If this is a number then just make them all equal\n",
    "            means = [means for _ in range(k)]\n",
    "            stddevs = [stddevs for _ in range(k)]\n",
    "        \n",
    "        assert len(means) == len(stddevs) == k    \n",
    "            \n",
    "        self.means = means\n",
    "        self.stddevs = stddevs\n",
    "        self.arms = [partial(np.random.normal, mu, sigma) for mu, sigma in zip(means, stddevs)]\n",
    "        super(GaussianEnv, self).__init__(k)\n",
    "\n",
    "    def step(self, action):\n",
    "        assert self.action_space.contains(action)\n",
    "        \n",
    "        reward = self.arms[action](1)[0]\n",
    "        done = True\n",
    "        \n",
    "        return 0, reward, done, {}\n",
    "    \n",
    "class PoissonEnv(BanditEnv):\n",
    "    '''\n",
    "    Poisson Bandits can be used to simulate a long tail event like watching videos or consuming content\n",
    "    '''\n",
    "    def __init__(self, k, means):\n",
    "        if isinstance(means, Number):\n",
    "            # If this is a number then just make them all equal\n",
    "            means = [means for _ in range(k)]\n",
    "        assert len(means) == k    \n",
    "            \n",
    "        self.means = means\n",
    "        self.arms = [partial(np.random.poisson, mu) for mu in means]\n",
    "        super(PoissonEnv, self).__init__(k)\n",
    "\n",
    "    def step(self, action):\n",
    "        assert self.action_space.contains(action)\n",
    "        \n",
    "        reward = self.arms[action](1)[0]\n",
    "        done = True\n",
    "        \n",
    "        return 0, reward, done, {}\n",
    "    \n",
    "# class BinomialEnv(BanditEnv):\n",
    "#     \"\"\"\n",
    "#     The Binomial distribution models the probability of an event occurring with\n",
    "#     p probability k times over N trials i.e. get heads on a p-coin k times on\n",
    "#     N flips.\n",
    "#     In the bandit scenario, this can be used to approximate a discrete user\n",
    "#     rating or \"strength\" of response to a single event.\n",
    "#     \"\"\"\n",
    "#     def __init__(self, k, n, p=None, t=None):\n",
    "#         super(BinomialEnv, self).__init__(k)\n",
    "#         self.n = n\n",
    "#         self.p = p\n",
    "#         self.t = t\n",
    "#         self.model = pm.Model()\n",
    "#         with self.model:\n",
    "#             self.bin = pm.Binomial('binomial', n=n*np.ones(k, dtype=np.int),\n",
    "#                                    p=np.ones(k)/n, shape=(1, k), transform=None)\n",
    "#         self._samples = None\n",
    "#         self._cursor = 0\n",
    "\n",
    "#         self.reset()\n",
    "\n",
    "#     def reset(self):\n",
    "#         if self.p is None:\n",
    "#             self.action_values = np.random.uniform(size=self.k)\n",
    "#         else:\n",
    "#             self.action_values = self.p\n",
    "#         self.bin.distribution.p = self.action_values\n",
    "#         if self.t is not None:\n",
    "#             self._samples = self.bin.random(size=self.t).squeeze()\n",
    "#             self._cursor = 0\n",
    "\n",
    "#         self.optimal = np.argmax(self.action_values)\n",
    "\n",
    "#     def pull(self, action):\n",
    "#         return self.sample[action], action == self.optimal\n",
    "\n",
    "#     @property\n",
    "#     def sample(self):\n",
    "#         if self._samples is None:\n",
    "#             return self.bin.random()\n",
    "#         else:\n",
    "#             val = self._samples[self._cursor]\n",
    "#             self._cursor += 1\n",
    "#             return val\n",
    "\n",
    "class BinomialEnv(BanditEnv):\n",
    "    \"\"\"\n",
    "    The Bernoulli distribution models the probability of a single event\n",
    "    occurring with p probability i.e. get heads on a single p-coin flip. This is\n",
    "    the special case of the Binomial distribution where N=1.\n",
    "    In the bandit scenario, this can be used to approximate a hit or miss event,\n",
    "    such as if a user clicks on a headline, ad, or recommended product.\n",
    "    \"\"\"\n",
    "    def __init__(self, k, n, ps=[]):    \n",
    "        self.ps = ps\n",
    "        self.k = k\n",
    "        self.n = n\n",
    "        self.reset()\n",
    "        super(BinomialEnv, self).__init__(k)\n",
    "\n",
    "    def step(self, action):\n",
    "        assert self.action_space.contains(action)\n",
    "        \n",
    "        reward = self.arms[action](1)[0]\n",
    "        done = True\n",
    "        \n",
    "        return 0, reward, done, {}\n",
    "    \n",
    "    def reset(self):\n",
    "        super(BinomialEnv, self).reset()\n",
    "        \n",
    "        if self.ps is None or len(self.ps) == 0:\n",
    "            self.arms = [partial(np.random.binomial, self.n, p) for p in np.random.uniform(size=self.k)]\n",
    "        else:\n",
    "            assert self.k == len(self.ps)\n",
    "            \n",
    "            self.arms = [partial(np.random.binomial, self.n, p) for p in ps]\n",
    "\n",
    "    \n",
    "class BernoulliEnv(BinomialEnv):\n",
    "    def __init__(self, k, ps=[]):\n",
    "        self.ps = ps\n",
    "        super(BernoulliEnv, self).__init__(k, 1, ps)"
   ]
  },
  {
   "cell_type": "markdown",
   "metadata": {},
   "source": [
    "# Policies\n",
    "\n",
    "There are three major policies you should start with after testing random.\n",
    "\n",
    "1. Epsilon greedy. The algorithm here is to find the most valuable result and pick that 1-epsilon of the time. Then epsilon of the time pick a random lever. Epsilon generally should be about 10% or so.\n",
    "2. Upper confidence bound. The problem with epsilon greedy is that it's arbitrary. Upper confidence bounds will determine the confidence interval to pick from and pick the one with the highest upper confidence. Then over time will reduce the range.\n",
    "3. Thompson sampling. This method is a bayesian method of assuming each lever has an equal distribution and then incrementally adding variables to the beta distribution over time. \n",
    "\n",
    "Instead of getting into the mathematics behind this I want to look directly at the code! So let's dig in!"
   ]
  },
  {
   "cell_type": "code",
   "execution_count": 279,
   "metadata": {},
   "outputs": [
    {
     "data": {
      "text/plain": [
       "(0, 0, True, {})"
      ]
     },
     "execution_count": 279,
     "metadata": {},
     "output_type": "execute_result"
    }
   ],
   "source": [
    "env = BernoulliEnv(10, 0.5)\n",
    "env.step(1)"
   ]
  },
  {
   "cell_type": "code",
   "execution_count": 57,
   "metadata": {},
   "outputs": [
    {
     "data": {
      "text/plain": [
       "(0, 1, True, {})"
      ]
     },
     "execution_count": 57,
     "metadata": {},
     "output_type": "execute_result"
    }
   ],
   "source": [
    "env = PoissonEnv(5, [1,2,3,4,5]) # 5 Arms that return incrementally better results\n",
    "\n",
    "env.step(1)"
   ]
  },
  {
   "cell_type": "code",
   "execution_count": 325,
   "metadata": {},
   "outputs": [],
   "source": [
    "import numpy as np\n",
    "\n",
    "\n",
    "class Policy(object):\n",
    "    \"\"\"\n",
    "    A policy prescribes an action to be taken based on the memory of an agent.\n",
    "    \n",
    "    In the case of n-armed bandits there is no state to be stored but in the next chapter we will\n",
    "    talk more about states. Contextual Bandits are a way of storing a more historical memory about someone.\n",
    "    \n",
    "    \"\"\"\n",
    "    def __str__(self):\n",
    "        return 'generic policy'\n",
    "\n",
    "    def choose(self, agent):\n",
    "        return 0\n",
    "\n",
    "\n",
    "class EpsilonGreedyPolicy(Policy):\n",
    "    \"\"\"\n",
    "    The Epsilon-Greedy policy will choose a random action with probability\n",
    "    epsilon and take the best apparent approach with probability 1-epsilon. If\n",
    "    multiple actions are tied for best choice, then a random action from that\n",
    "    subset is selected.\n",
    "    \"\"\"\n",
    "    def __init__(self, epsilon):\n",
    "        self.epsilon = epsilon\n",
    "\n",
    "    def __str__(self):\n",
    "        return '\\u03B5-greedy (\\u03B5={})'.format(self.epsilon)\n",
    "\n",
    "    def choose(self, agent):\n",
    "        if np.random.random() < self.epsilon:\n",
    "            return np.random.choice(len(agent.value_estimates))\n",
    "        else:\n",
    "            action = np.argmax(agent.value_estimates)\n",
    "            check = np.where(agent.value_estimates == agent.value_estimates[action])[0]\n",
    "            if len(check) == 1:\n",
    "                return action\n",
    "            else:\n",
    "                return np.random.choice(check)\n",
    "\n",
    "\n",
    "class GreedyPolicy(EpsilonGreedyPolicy):\n",
    "    \"\"\"\n",
    "    The Greedy policy only takes the best apparent action, with ties broken by\n",
    "    random selection. This can be seen as a special case of EpsilonGreedy where\n",
    "    epsilon = 0 i.e. always exploit.\n",
    "    \"\"\"\n",
    "    def __init__(self):\n",
    "        super(GreedyPolicy, self).__init__(0)\n",
    "\n",
    "    def __str__(self):\n",
    "        return 'greedy'\n",
    "\n",
    "\n",
    "class RandomPolicy(EpsilonGreedyPolicy):\n",
    "    \"\"\"\n",
    "    The Random policy randomly selects from all available actions with no\n",
    "    consideration to which is apparently best. This can be seen as a special\n",
    "    case of EpsilonGreedy where epsilon = 1 i.e. always explore.\n",
    "    \"\"\"\n",
    "    def __init__(self):\n",
    "        super(RandomPolicy, self).__init__(1)\n",
    "\n",
    "    def __str__(self):\n",
    "        return 'random'\n",
    "\n",
    "\n",
    "class UCBPolicy(Policy):\n",
    "    \"\"\"\n",
    "    The Upper Confidence Bound algorithm (UCB1). It applies an exploration\n",
    "    factor to the expected value of each arm which can influence a greedy\n",
    "    selection strategy to more intelligently explore less confident options.\n",
    "    \"\"\"\n",
    "    def __init__(self, c):\n",
    "        self.c = c\n",
    "\n",
    "    def __str__(self):\n",
    "        return 'UCB (c={})'.format(self.c)\n",
    "\n",
    "    def choose(self, agent):\n",
    "        exploration = np.log(agent.t+1) / agent.action_attempts\n",
    "        exploration[np.isnan(exploration)] = 0\n",
    "        exploration = np.power(exploration, 1/self.c)\n",
    "\n",
    "        q = agent.value_estimates + exploration\n",
    "        action = np.argmax(q)\n",
    "        check = np.where(q == q[action])[0]\n",
    "        if len(check) == 1:\n",
    "            return action\n",
    "        else:\n",
    "            return np.random.choice(check)\n",
    "\n",
    "\n",
    "# Note that we don't have Thompson sampling yet because we need to update our beliefs with Agency"
   ]
  },
  {
   "cell_type": "markdown",
   "metadata": {},
   "source": [
    "# Naive vs Bayesian Agents\n",
    "\n",
    "So if we were to try and run the code we would notice that in general this doesn't work! WE need to build an agent that is either naive or bayesian.\n",
    "\n",
    "1. The Naive agent will simply store it's value estimates. As we go throughout this book what we calculate as the value estimate will change.\n",
    "2. Bayesian belief agent. This is thompson sampling. Basically we start with a bernoulli distribution and update our beliefs on it using the beta distribution. (NOTE: Should I talk more about Betas?)"
   ]
  },
  {
   "cell_type": "code",
   "execution_count": 330,
   "metadata": {},
   "outputs": [],
   "source": [
    "import numpy as np\n",
    "import pymc3 as pm\n",
    "\n",
    "\n",
    "class Agent(object):\n",
    "    \"\"\"\n",
    "    An Agent is able to take one of a set of actions at each time step. The\n",
    "    action is chosen using a strategy based on the history of prior actions\n",
    "    and outcome observations.\n",
    "    \"\"\"\n",
    "    def __init__(self, environment, policy, prior=0, gamma=None):\n",
    "        self.policy = policy\n",
    "        self.environment = environment\n",
    "        self.k = environment.action_space.n\n",
    "        self.prior = prior\n",
    "        self.gamma = gamma\n",
    "        self._value_estimates = prior*np.ones(self.k)\n",
    "        self.action_attempts = np.zeros(self.k)\n",
    "        self.t = 0\n",
    "        self.last_action = None\n",
    "\n",
    "    def __str__(self):\n",
    "        return 'f/{}'.format(str(self.policy))\n",
    "\n",
    "    def reset(self):\n",
    "        \"\"\"\n",
    "        Resets the agent's memory to an initial state.\n",
    "        \"\"\"\n",
    "        self._value_estimates[:] = self.prior\n",
    "        self.action_attempts[:] = 0\n",
    "        self.last_action = None\n",
    "        self.t = 0\n",
    "        self.environment.reset()\n",
    "\n",
    "    def choose(self):\n",
    "        action = self.policy.choose(self)\n",
    "        self.last_action = action\n",
    "        return action\n",
    "\n",
    "    def observe(self, reward):\n",
    "        self.action_attempts[self.last_action] += 1\n",
    "\n",
    "        if self.gamma is None:\n",
    "            g = 1 / self.action_attempts[self.last_action]\n",
    "        else:\n",
    "            g = self.gamma\n",
    "        q = self._value_estimates[self.last_action]\n",
    "\n",
    "        self._value_estimates[self.last_action] += g*(reward - q)\n",
    "        self.t += 1\n",
    "        \n",
    "    def render(self):\n",
    "        pd.Series(self.rewards).expanding().mean().plot()\n",
    "        plt.show()\n",
    "\n",
    "    @property\n",
    "    def value_estimates(self):\n",
    "        return self._value_estimates\n",
    "    \n",
    "    def run(self, epochs=1000, experiments=10):\n",
    "        rewards = np.zeros((epochs, experiments))\n",
    "        \n",
    "        for i in range(experiments):\n",
    "            self.reset()\n",
    "            for j in range(epochs):\n",
    "                action = self.choose()\n",
    "                observation, reward, done, info = self.environment.step(action)\n",
    "                self.observe(reward)\n",
    "                rewards[j,i] = reward\n",
    "\n",
    "        df = pd.DataFrame(rewards).expanding().mean().mean(axis=1)\n",
    "        return df\n",
    "\n",
    "\n",
    "class BetaAgent(Agent):\n",
    "    \"\"\"\n",
    "    The Beta Agent is a Bayesian approach to a bandit problem with a Bernoulli\n",
    "     or Binomial likelihood, as these distributions have a Beta distribution as\n",
    "     a conjugate prior.\n",
    "    \"\"\"\n",
    "    def __init__(self, environment, policy, ts=True):\n",
    "        super(BetaAgent, self).__init__(environment, policy)\n",
    "        self.n = environment.n\n",
    "        self.ts = ts\n",
    "        self.model = pm.Model()\n",
    "        with self.model:\n",
    "            self._prior = pm.Beta('prior', alpha=np.ones(self.k),\n",
    "                                  beta=np.ones(self.k), shape=(1, self.k),\n",
    "                                  transform=None)\n",
    "        self._value_estimates = np.zeros(self.k)\n",
    "\n",
    "    def __str__(self):\n",
    "        if self.ts:\n",
    "            return 'b/TS'\n",
    "        else:\n",
    "            return 'b/{}'.format(str(self.policy))\n",
    "\n",
    "    def reset(self):\n",
    "        super(BetaAgent, self).reset()\n",
    "        self._prior.distribution.alpha = np.ones(self.k)\n",
    "        self._prior.distribution.beta = np.ones(self.k)\n",
    "\n",
    "    def observe(self, reward):\n",
    "        self.action_attempts[self.last_action] += 1\n",
    "\n",
    "        self.alpha[self.last_action] += reward\n",
    "        self.beta[self.last_action] += self.n - reward\n",
    "\n",
    "        if self.ts:\n",
    "            self._value_estimates = self._prior.random()[0]\n",
    "        else:\n",
    "            self._value_estimates = self.alpha / (self.alpha + self.beta)\n",
    "        self.t += 1\n",
    "\n",
    "    @property\n",
    "    def alpha(self):\n",
    "        return self._prior.distribution.alpha\n",
    "\n",
    "    @property\n",
    "    def beta(self):\n",
    "        return self._prior.distribution.beta"
   ]
  },
  {
   "cell_type": "code",
   "execution_count": 264,
   "metadata": {},
   "outputs": [
    {
     "data": {
      "image/png": "[encoded data removed]",
      "text/plain": [
       "<Figure size 432x288 with 1 Axes>"
      ]
     },
     "metadata": {
      "needs_background": "light"
     },
     "output_type": "display_data"
    }
   ],
   "source": [
    "# Needle in the Haystack\n",
    "# Let's say that we have a bunch of levers that aren't great\n",
    "# And one that is awesome (10 levers that are 1 and 1 that is 100)\n",
    "# How quickly can we come up to speed?\n",
    "\n",
    "arms = 10\n",
    "means = [1 for i in range(arms)]\n",
    "means[-1] = 100\n",
    "\n",
    "environment = PoissonEnv(arms, means)\n",
    "\n",
    "\n",
    "policies = [\n",
    "    RandomPolicy(),\n",
    "    GreedyPolicy(),\n",
    "    EpsilonGreedyPolicy(0.01),\n",
    "    EpsilonGreedyPolicy(0.1),\n",
    "    UCBPolicy(2)\n",
    "]\n",
    "\n",
    "for policy in policies:\n",
    "    simulation = Agent(environment, policy)\n",
    "    rewards = simulation.run()\n",
    "    rewards.plot(label=policy, title='Finding a bandit that returns on average 100')\n",
    "    plt.legend()"
   ]
  },
  {
   "cell_type": "code",
   "execution_count": 265,
   "metadata": {},
   "outputs": [
    {
     "data": {
      "image/png": "[encoded data removed]",
      "text/plain": [
       "<Figure size 432x288 with 1 Axes>"
      ]
     },
     "metadata": {
      "needs_background": "light"
     },
     "output_type": "display_data"
    }
   ],
   "source": [
    "arms = 10\n",
    "means = [1 for i in range(arms)]\n",
    "stddevs = [1 for i in range(arms)]\n",
    "means[-1] = 100\n",
    "\n",
    "environment = GaussianEnv(arms, means, stddevs)\n",
    "\n",
    "policies = [\n",
    "    RandomPolicy(),\n",
    "    GreedyPolicy(),\n",
    "    EpsilonGreedyPolicy(0.01),\n",
    "    EpsilonGreedyPolicy(0.1),\n",
    "    UCBPolicy(2)\n",
    "]\n",
    "\n",
    "for policy in policies:\n",
    "    simulation = Agent(environment, policy)\n",
    "    rewards = simulation.run()\n",
    "    rewards.plot(label=policy, title='Finding a bandit that returns on average 100')\n",
    "    plt.legend()"
   ]
  },
  {
   "cell_type": "code",
   "execution_count": 283,
   "metadata": {},
   "outputs": [
    {
     "data": {
      "text/plain": [
       "array([0.76790431, 0.91678049, 0.97015783, 0.56698084, 0.8831572 ,\n",
       "       0.75040047, 0.04493587, 0.54693919, 0.40485862, 0.32950178])"
      ]
     },
     "execution_count": 283,
     "metadata": {},
     "output_type": "execute_result"
    }
   ],
   "source": [
    "np.random.uniform(size=10)"
   ]
  },
  {
   "cell_type": "code",
   "execution_count": 333,
   "metadata": {},
   "outputs": [
    {
     "data": {
      "text/plain": [
       "<matplotlib.legend.Legend at 0x7f19e2d995b0>"
      ]
     },
     "execution_count": 333,
     "metadata": {},
     "output_type": "execute_result"
    },
    {
     "data": {
      "image/png": "[encoded data removed]",
      "text/plain": [
       "<Figure size 432x288 with 1 Axes>"
      ]
     },
     "metadata": {
      "needs_background": "light"
     },
     "output_type": "display_data"
    }
   ],
   "source": [
    "arms = 10\n",
    "environment = BernoulliEnv(arms)\n",
    "\n",
    "policies = [\n",
    "    EpsilonGreedyPolicy(0.1),\n",
    "    UCBPolicy(1)\n",
    "]\n",
    "\n",
    "for policy in policies:\n",
    "    simulation = Agent(environment, policy)\n",
    "    rewards = simulation.run()\n",
    "    rewards.plot(label=policy, title='Finding a bandit that returns on average 100')\n",
    "\n",
    "    \n",
    "simulation = BetaAgent(environment, GreedyPolicy())\n",
    "simulation.run().plot(label=\"Thompson Sampling\")\n",
    "plt.legend()"
   ]
  },
  {
   "cell_type": "code",
   "execution_count": 337,
   "metadata": {},
   "outputs": [
    {
     "data": {
      "text/plain": [
       "<matplotlib.legend.Legend at 0x7f19e3241040>"
      ]
     },
     "execution_count": 337,
     "metadata": {},
     "output_type": "execute_result"
    },
    {
     "data": {
      "image/png": "[encoded data removed]",
      "text/plain": [
       "<Figure size 432x288 with 1 Axes>"
      ]
     },
     "metadata": {
      "needs_background": "light"
     },
     "output_type": "display_data"
    }
   ],
   "source": [
    "# bandit = bd.BinomialBandit(n_arms, n=5, t=3*n_trials)  # cache samples ahead of time for speed\n",
    "arms = 10\n",
    "environment = BinomialEnv(arms, 5)\n",
    "\n",
    "policies = [\n",
    "    EpsilonGreedyPolicy(0.1),\n",
    "    UCBPolicy(1)\n",
    "]\n",
    "\n",
    "for policy in policies:\n",
    "    simulation = Agent(environment, policy)\n",
    "    rewards = simulation.run()\n",
    "    rewards.plot(label=policy, title='Winning against Binomial')\n",
    "\n",
    "    \n",
    "simulation = BetaAgent(environment, GreedyPolicy())\n",
    "simulation.run().plot(label=\"Thompson Sampling\")\n",
    "plt.legend()"
   ]
  }
 ],
 "metadata": {
  "kernelspec": {
   "display_name": "Python 3",
   "language": "python",
   "name": "python3"
  },
  "language_info": {
   "codemirror_mode": {
    "name": "ipython",
    "version": 3
   },
   "file_extension": ".py",
   "mimetype": "text/x-python",
   "name": "python",
   "nbconvert_exporter": "python",
   "pygments_lexer": "ipython3",
   "version": "3.8.5"
  }
 },
 "nbformat": 4,
 "nbformat_minor": 4
}
